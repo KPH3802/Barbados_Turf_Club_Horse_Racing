{
 "cells": [
  {
   "cell_type": "code",
   "execution_count": 2,
   "metadata": {},
   "outputs": [],
   "source": [
    "import pandas as pd\n",
    "dfs = pd.read_html('https://www.barbadosturfclub.org/entries-for-saturday-12-december-2020-the-david-seale-racing-nite-inaugural-raceday-under-the-lights/')"
   ]
  },
  {
   "cell_type": "code",
   "execution_count": 87,
   "metadata": {},
   "outputs": [],
   "source": [
    "race1 = dfs[0].iloc[4:21, 1:3]"
   ]
  },
  {
   "cell_type": "code",
   "execution_count": 71,
   "metadata": {},
   "outputs": [],
   "source": [
    "race2 = dfs[1].iloc[4:25, 1:3]"
   ]
  },
  {
   "cell_type": "code",
   "execution_count": 75,
   "metadata": {},
   "outputs": [],
   "source": [
    "race3 = dfs[2].iloc[4:17, 1:3]"
   ]
  },
  {
   "cell_type": "code",
   "execution_count": 79,
   "metadata": {},
   "outputs": [],
   "source": [
    "race4 = dfs[3].iloc[4:18, 1:3]"
   ]
  },
  {
   "cell_type": "code",
   "execution_count": 82,
   "metadata": {},
   "outputs": [],
   "source": [
    "race5 = dfs[4].iloc[4:12, 1:3]"
   ]
  },
  {
   "cell_type": "code",
   "execution_count": 83,
   "metadata": {},
   "outputs": [],
   "source": [
    "race6 = dfs[5].iloc[4:17,1:3]"
   ]
  },
  {
   "cell_type": "code",
   "execution_count": 84,
   "metadata": {},
   "outputs": [],
   "source": [
    "race7 = dfs[6].iloc[4:19, 1:3]"
   ]
  },
  {
   "cell_type": "code",
   "execution_count": 85,
   "metadata": {},
   "outputs": [],
   "source": [
    "race8 = dfs[7].iloc[4:13, 1:3]"
   ]
  },
  {
   "cell_type": "code",
   "execution_count": 86,
   "metadata": {},
   "outputs": [],
   "source": [
    "race9 = dfs[8].iloc[4:17, 1:3]"
   ]
  },
  {
   "cell_type": "code",
   "execution_count": 94,
   "metadata": {},
   "outputs": [],
   "source": [
    "race1_csv = race1.to_csv(\"race1.csv\", index=False)\n",
    "race2_csv = race2.to_csv(\"race2.csv\", index=False)\n",
    "race3_csv = race3.to_csv(\"race3.csv\", index=False)\n",
    "race4_csv = race4.to_csv(\"race4.csv\", index=False)\n",
    "race5_csv = race5.to_csv(\"race5.csv\", index=False)\n",
    "race6_csv = race6.to_csv(\"race6.csv\", index=False)\n",
    "race7_csv = race7.to_csv(\"race7.csv\", index=False)\n",
    "race8_csv = race8.to_csv(\"race8.csv\", index=False)\n",
    "race9_csv = race9.to_csv(\"race9.csv\", index=False)"
   ]
  },
  {
   "cell_type": "code",
   "execution_count": null,
   "metadata": {},
   "outputs": [],
   "source": []
  }
 ],
 "metadata": {
  "kernelspec": {
   "display_name": "webscrape",
   "language": "python",
   "name": "webscrape"
  },
  "language_info": {
   "codemirror_mode": {
    "name": "ipython",
    "version": 3
   },
   "file_extension": ".py",
   "mimetype": "text/x-python",
   "name": "python",
   "nbconvert_exporter": "python",
   "pygments_lexer": "ipython3",
   "version": "3.6.10"
  }
 },
 "nbformat": 4,
 "nbformat_minor": 4
}
